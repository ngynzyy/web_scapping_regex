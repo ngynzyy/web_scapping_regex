{
  "cells": [
    {
      "cell_type": "markdown",
      "metadata": {
        "id": "vFohcgX6Il9l"
      },
      "source": [
        "## **I. Web Scrapping:**"
      ]
    },
    {
      "cell_type": "code",
      "execution_count": 2,
      "metadata": {
        "id": "7sgxaoIX1_iv"
      },
      "outputs": [],
      "source": [
        "from bs4 import BeautifulSoup\n",
        "import requests"
      ]
    },
    {
      "cell_type": "code",
      "execution_count": null,
      "metadata": {
        "colab": {
          "base_uri": "https://localhost:8080/"
        },
        "id": "2gSXjnRK3-SP",
        "outputId": "b1298309-0557-4a40-8f5c-1a26a3f4e7e2"
      },
      "outputs": [
        {
          "data": {
            "text/plain": [
              "[<title>Artificial Intelligence  authors/titles recent submissions</title>,\n",
              " <link href=\"/favicon.ico\" rel=\"shortcut icon\" type=\"image/x-icon\"/>,\n",
              " <link href=\"//static.arxiv.org/static/browse/0.3.2.8/css/arXiv.css?v=20220215\" media=\"screen\" rel=\"stylesheet\" type=\"text/css\"/>,\n",
              " <link href=\"/bibex/bibex.css?20181009\" media=\"screen\" rel=\"stylesheet\" type=\"text/css\"/>,\n",
              " <link href=\"https://static.arxiv.org/static/browse/0.3.8/css/browse_search.css\" media=\"screen\" rel=\"stylesheet\" type=\"text/css\">\n",
              " <link href=\"http://arxiv.org/rss/cs.AI\" rel=\"alternate\" title=\"Artificial Intelligence \" type=\"application/rss+xml\"/>\n",
              " <script src=\"/js/mathjaxToggle.min.js\" type=\"text/javascript\"></script>\n",
              " </link>,\n",
              " <link href=\"http://arxiv.org/rss/cs.AI\" rel=\"alternate\" title=\"Artificial Intelligence \" type=\"application/rss+xml\"/>,\n",
              " <script src=\"/js/mathjaxToggle.min.js\" type=\"text/javascript\"></script>]"
            ]
          },
          "execution_count": 22,
          "metadata": {},
          "output_type": "execute_result"
        }
      ],
      "source": [
        "html = requests.get('https://arxiv.org/list/cs.AI/pastweek?show=372')\n",
        "get_bs = BeautifulSoup(html.content, 'html.parser')\n",
        "get_bs.head()"
      ]
    },
    {
      "cell_type": "markdown",
      "metadata": {
        "id": "v6RPw4R7LMWc"
      },
      "source": [
        "### 1. Lấy các đường dẫn đến các bài báo\n",
        "* Ta thấy các link bài báo, chứa đường dẫn `https://arxiv.org/abs/` kèm với một mã số.\n",
        "* Bằng cách kiểm tra, ta lấy ở thẻ `<span class=\"list-indentifier\">` chứa nội dung bao gồm mã số đến đường dẫn bài báo, ta tiến hành lấy link và xử lý chuỗi.\n",
        "\n"
      ]
    },
    {
      "cell_type": "code",
      "execution_count": null,
      "metadata": {
        "colab": {
          "base_uri": "https://localhost:8080/"
        },
        "id": "Vi1odJiX4Tc7",
        "outputId": "bb641f00-c715-4ba1-e6de-b6436923a36f"
      },
      "outputs": [
        {
          "name": "stdout",
          "output_type": "stream",
          "text": [
            "https://arxiv.org/abs/2305.16291\n",
            "https://arxiv.org/abs/2305.16191\n",
            "https://arxiv.org/abs/2305.16151\n",
            "https://arxiv.org/abs/2305.15934\n",
            "https://arxiv.org/abs/2305.15921\n",
            "https://arxiv.org/abs/2305.15771\n",
            "https://arxiv.org/abs/2305.15743\n",
            "https://arxiv.org/abs/2305.15695\n",
            "https://arxiv.org/abs/2305.15486\n",
            "https://arxiv.org/abs/2305.16318\n",
            "https://arxiv.org/abs/2305.16317\n",
            "https://arxiv.org/abs/2305.16312\n",
            "https://arxiv.org/abs/2305.16303\n",
            "https://arxiv.org/abs/2305.16295\n",
            "https://arxiv.org/abs/2305.16289\n",
            "https://arxiv.org/abs/2305.16275\n",
            "https://arxiv.org/abs/2305.16264\n",
            "https://arxiv.org/abs/2305.16263\n",
            "https://arxiv.org/abs/2305.16259\n",
            "https://arxiv.org/abs/2305.16257\n",
            "https://arxiv.org/abs/2305.16209\n",
            "https://arxiv.org/abs/2305.16203\n",
            "https://arxiv.org/abs/2305.16196\n",
            "https://arxiv.org/abs/2305.16195\n",
            "https://arxiv.org/abs/2305.16192\n",
            "https://arxiv.org/abs/2305.16183\n",
            "https://arxiv.org/abs/2305.16174\n",
            "https://arxiv.org/abs/2305.16173\n",
            "https://arxiv.org/abs/2305.16170\n",
            "https://arxiv.org/abs/2305.16163\n",
            "https://arxiv.org/abs/2305.16162\n",
            "https://arxiv.org/abs/2305.16158\n",
            "https://arxiv.org/abs/2305.16147\n",
            "https://arxiv.org/abs/2305.16133\n",
            "https://arxiv.org/abs/2305.16114\n",
            "https://arxiv.org/abs/2305.16103\n",
            "https://arxiv.org/abs/2305.16093\n",
            "https://arxiv.org/abs/2305.16092\n",
            "https://arxiv.org/abs/2305.16056\n",
            "https://arxiv.org/abs/2305.16051\n",
            "https://arxiv.org/abs/2305.16048\n",
            "https://arxiv.org/abs/2305.16044\n",
            "https://arxiv.org/abs/2305.16038\n",
            "https://arxiv.org/abs/2305.16014\n",
            "https://arxiv.org/abs/2305.16000\n",
            "https://arxiv.org/abs/2305.15997\n",
            "https://arxiv.org/abs/2305.15979\n",
            "https://arxiv.org/abs/2305.15961\n",
            "https://arxiv.org/abs/2305.15950\n",
            "https://arxiv.org/abs/2305.15945\n",
            "https://arxiv.org/abs/2305.15944\n",
            "https://arxiv.org/abs/2305.15936\n",
            "https://arxiv.org/abs/2305.15922\n",
            "https://arxiv.org/abs/2305.15917\n",
            "https://arxiv.org/abs/2305.15904\n",
            "https://arxiv.org/abs/2305.15877\n",
            "https://arxiv.org/abs/2305.15875\n",
            "https://arxiv.org/abs/2305.15872\n",
            "https://arxiv.org/abs/2305.15867\n",
            "https://arxiv.org/abs/2305.15853\n",
            "https://arxiv.org/abs/2305.15852\n",
            "https://arxiv.org/abs/2305.15836\n",
            "https://arxiv.org/abs/2305.15835\n",
            "https://arxiv.org/abs/2305.15816\n",
            "https://arxiv.org/abs/2305.15811\n",
            "https://arxiv.org/abs/2305.15809\n",
            "https://arxiv.org/abs/2305.15801\n",
            "https://arxiv.org/abs/2305.15793\n",
            "https://arxiv.org/abs/2305.15788\n",
            "https://arxiv.org/abs/2305.15770\n",
            "https://arxiv.org/abs/2305.15769\n",
            "https://arxiv.org/abs/2305.15765\n",
            "https://arxiv.org/abs/2305.15757\n",
            "https://arxiv.org/abs/2305.15740\n",
            "https://arxiv.org/abs/2305.15735\n",
            "https://arxiv.org/abs/2305.15734\n",
            "https://arxiv.org/abs/2305.15719\n",
            "https://arxiv.org/abs/2305.15712\n",
            "https://arxiv.org/abs/2305.15703\n",
            "https://arxiv.org/abs/2305.15698\n",
            "https://arxiv.org/abs/2305.15697\n",
            "https://arxiv.org/abs/2305.15692\n",
            "https://arxiv.org/abs/2305.15689\n",
            "https://arxiv.org/abs/2305.15685\n",
            "https://arxiv.org/abs/2305.15678\n",
            "https://arxiv.org/abs/2305.15669\n",
            "https://arxiv.org/abs/2305.15659\n",
            "https://arxiv.org/abs/2305.15652\n",
            "https://arxiv.org/abs/2305.15644\n",
            "https://arxiv.org/abs/2305.15642\n",
            "https://arxiv.org/abs/2305.15629\n",
            "https://arxiv.org/abs/2305.15614\n",
            "https://arxiv.org/abs/2305.15611\n",
            "https://arxiv.org/abs/2305.15608\n",
            "https://arxiv.org/abs/2305.15602\n",
            "https://arxiv.org/abs/2305.15597\n",
            "https://arxiv.org/abs/2305.15596\n",
            "https://arxiv.org/abs/2305.15587\n",
            "https://arxiv.org/abs/2305.15559\n",
            "https://arxiv.org/abs/2305.15555\n",
            "https://arxiv.org/abs/2305.15541\n",
            "https://arxiv.org/abs/2305.15535\n",
            "https://arxiv.org/abs/2305.15507\n",
            "https://arxiv.org/abs/2305.15498\n",
            "https://arxiv.org/abs/2305.15454\n",
            "https://arxiv.org/abs/2305.15444\n",
            "https://arxiv.org/abs/2305.15424\n",
            "https://arxiv.org/abs/2305.15420\n",
            "https://arxiv.org/abs/2305.15410\n",
            "https://arxiv.org/abs/2305.14258\n",
            "https://arxiv.org/abs/2305.10259\n",
            "https://arxiv.org/abs/2212.10823\n",
            "https://arxiv.org/abs/2211.11300\n",
            "https://arxiv.org/abs/2305.15338\n",
            "https://arxiv.org/abs/2305.15324\n",
            "https://arxiv.org/abs/2305.15318\n",
            "https://arxiv.org/abs/2305.15256\n",
            "https://arxiv.org/abs/2305.15239\n",
            "https://arxiv.org/abs/2305.15113\n",
            "https://arxiv.org/abs/2305.15109\n",
            "https://arxiv.org/abs/2305.15066\n",
            "https://arxiv.org/abs/2305.14930\n",
            "https://arxiv.org/abs/2305.14909\n",
            "https://arxiv.org/abs/2305.14784\n",
            "https://arxiv.org/abs/2305.14740\n",
            "https://arxiv.org/abs/2305.14736\n",
            "https://arxiv.org/abs/2305.14449\n",
            "https://arxiv.org/abs/2305.15399\n",
            "https://arxiv.org/abs/2305.15393\n",
            "https://arxiv.org/abs/2305.15387\n",
            "https://arxiv.org/abs/2305.15385\n",
            "https://arxiv.org/abs/2305.15382\n",
            "https://arxiv.org/abs/2305.15374\n",
            "https://arxiv.org/abs/2305.15367\n",
            "https://arxiv.org/abs/2305.15348\n",
            "https://arxiv.org/abs/2305.15340\n",
            "https://arxiv.org/abs/2305.15334\n",
            "https://arxiv.org/abs/2305.15328\n",
            "https://arxiv.org/abs/2305.15299\n",
            "https://arxiv.org/abs/2305.15296\n",
            "https://arxiv.org/abs/2305.15287\n",
            "https://arxiv.org/abs/2305.15282\n",
            "https://arxiv.org/abs/2305.15269\n",
            "https://arxiv.org/abs/2305.15268\n",
            "https://arxiv.org/abs/2305.15253\n",
            "https://arxiv.org/abs/2305.15249\n",
            "https://arxiv.org/abs/2305.15233\n",
            "https://arxiv.org/abs/2305.15222\n",
            "https://arxiv.org/abs/2305.15220\n",
            "https://arxiv.org/abs/2305.15218\n",
            "https://arxiv.org/abs/2305.15217\n",
            "https://arxiv.org/abs/2305.15203\n",
            "https://arxiv.org/abs/2305.15196\n",
            "https://arxiv.org/abs/2305.15194\n",
            "https://arxiv.org/abs/2305.15187\n",
            "https://arxiv.org/abs/2305.15186\n",
            "https://arxiv.org/abs/2305.15165\n",
            "https://arxiv.org/abs/2305.15153\n",
            "https://arxiv.org/abs/2305.15151\n",
            "https://arxiv.org/abs/2305.15149\n",
            "https://arxiv.org/abs/2305.15148\n",
            "https://arxiv.org/abs/2305.15138\n",
            "https://arxiv.org/abs/2305.15130\n",
            "https://arxiv.org/abs/2305.15097\n",
            "https://arxiv.org/abs/2305.15096\n",
            "https://arxiv.org/abs/2305.15093\n",
            "https://arxiv.org/abs/2305.15090\n",
            "https://arxiv.org/abs/2305.15086\n",
            "https://arxiv.org/abs/2305.15080\n",
            "https://arxiv.org/abs/2305.15075\n",
            "https://arxiv.org/abs/2305.15074\n",
            "https://arxiv.org/abs/2305.15068\n",
            "https://arxiv.org/abs/2305.15062\n",
            "https://arxiv.org/abs/2305.15055\n",
            "https://arxiv.org/abs/2305.15047\n",
            "https://arxiv.org/abs/2305.15032\n",
            "https://arxiv.org/abs/2305.15028\n",
            "https://arxiv.org/abs/2305.15027\n",
            "https://arxiv.org/abs/2305.15026\n",
            "https://arxiv.org/abs/2305.15024\n",
            "https://arxiv.org/abs/2305.15021\n",
            "https://arxiv.org/abs/2305.15017\n",
            "https://arxiv.org/abs/2305.15008\n",
            "https://arxiv.org/abs/2305.15006\n",
            "https://arxiv.org/abs/2305.15001\n",
            "https://arxiv.org/abs/2305.14998\n",
            "https://arxiv.org/abs/2305.14992\n",
            "https://arxiv.org/abs/2305.14991\n",
            "https://arxiv.org/abs/2305.14982\n",
            "https://arxiv.org/abs/2305.14981\n",
            "https://arxiv.org/abs/2305.14979\n",
            "https://arxiv.org/abs/2305.14970\n",
            "https://arxiv.org/abs/2305.14950\n",
            "https://arxiv.org/abs/2305.14948\n",
            "https://arxiv.org/abs/2305.14938\n",
            "https://arxiv.org/abs/2305.14934\n",
            "https://arxiv.org/abs/2305.14926\n",
            "https://arxiv.org/abs/2305.14917\n",
            "https://arxiv.org/abs/2305.14910\n",
            "https://arxiv.org/abs/2305.14904\n",
            "https://arxiv.org/abs/2305.14889\n",
            "https://arxiv.org/abs/2305.14882\n",
            "https://arxiv.org/abs/2305.14879\n",
            "https://arxiv.org/abs/2305.14878\n",
            "https://arxiv.org/abs/2305.14874\n",
            "https://arxiv.org/abs/2305.14858\n",
            "https://arxiv.org/abs/2305.14852\n",
            "https://arxiv.org/abs/2305.14842\n",
            "https://arxiv.org/abs/2305.14826\n",
            "https://arxiv.org/abs/2305.14825\n",
            "https://arxiv.org/abs/2305.14794\n",
            "https://arxiv.org/abs/2305.14790\n",
            "https://arxiv.org/abs/2305.14785\n",
            "https://arxiv.org/abs/2305.14775\n",
            "https://arxiv.org/abs/2305.14755\n",
            "https://arxiv.org/abs/2305.14752\n",
            "https://arxiv.org/abs/2305.14751\n",
            "https://arxiv.org/abs/2305.14735\n",
            "https://arxiv.org/abs/2305.14731\n",
            "https://arxiv.org/abs/2305.14726\n",
            "https://arxiv.org/abs/2305.14724\n",
            "https://arxiv.org/abs/2305.14720\n",
            "https://arxiv.org/abs/2305.14717\n",
            "https://arxiv.org/abs/2305.14713\n",
            "https://arxiv.org/abs/2305.14710\n",
            "https://arxiv.org/abs/2305.14707\n",
            "https://arxiv.org/abs/2305.14706\n",
            "https://arxiv.org/abs/2305.14701\n",
            "https://arxiv.org/abs/2305.14699\n",
            "https://arxiv.org/abs/2305.14695\n",
            "https://arxiv.org/abs/2305.14688\n",
            "https://arxiv.org/abs/2305.14656\n",
            "https://arxiv.org/abs/2305.14654\n",
            "https://arxiv.org/abs/2305.14649\n",
            "https://arxiv.org/abs/2305.14635\n",
            "https://arxiv.org/abs/2305.14628\n",
            "https://arxiv.org/abs/2305.14618\n",
            "https://arxiv.org/abs/2305.14617\n",
            "https://arxiv.org/abs/2305.14613\n",
            "https://arxiv.org/abs/2305.14608\n",
            "https://arxiv.org/abs/2305.14597\n",
            "https://arxiv.org/abs/2305.14590\n",
            "https://arxiv.org/abs/2305.14582\n",
            "https://arxiv.org/abs/2305.14580\n",
            "https://arxiv.org/abs/2305.14561\n",
            "https://arxiv.org/abs/2305.14556\n",
            "https://arxiv.org/abs/2305.14555\n",
            "https://arxiv.org/abs/2305.14553\n",
            "https://arxiv.org/abs/2305.14552\n",
            "https://arxiv.org/abs/2305.14550\n",
            "https://arxiv.org/abs/2305.14538\n",
            "https://arxiv.org/abs/2305.14537\n",
            "https://arxiv.org/abs/2305.14534\n",
            "https://arxiv.org/abs/2305.14517\n",
            "https://arxiv.org/abs/2305.14502\n",
            "https://arxiv.org/abs/2305.14497\n",
            "https://arxiv.org/abs/2305.14480\n",
            "https://arxiv.org/abs/2305.14463\n",
            "https://arxiv.org/abs/2305.14459\n",
            "https://arxiv.org/abs/2305.14456\n",
            "https://arxiv.org/abs/2305.14451\n",
            "https://arxiv.org/abs/2305.14410\n",
            "https://arxiv.org/abs/2305.14406\n",
            "https://arxiv.org/abs/2305.14405\n",
            "https://arxiv.org/abs/2305.14404\n",
            "https://arxiv.org/abs/2305.14403\n",
            "https://arxiv.org/abs/2305.14395\n",
            "https://arxiv.org/abs/2305.14394\n",
            "https://arxiv.org/abs/2305.14389\n",
            "https://arxiv.org/abs/2305.14387\n",
            "https://arxiv.org/abs/2305.14386\n",
            "https://arxiv.org/abs/2305.14384\n",
            "https://arxiv.org/abs/2305.14383\n",
            "https://arxiv.org/abs/2305.14382\n",
            "https://arxiv.org/abs/2305.14381\n",
            "https://arxiv.org/abs/2305.14377\n",
            "https://arxiv.org/abs/2305.14375\n",
            "https://arxiv.org/abs/2305.14373\n",
            "https://arxiv.org/abs/2305.14370\n",
            "https://arxiv.org/abs/2305.14366\n",
            "https://arxiv.org/abs/2305.14365\n",
            "https://arxiv.org/abs/2305.14364\n",
            "https://arxiv.org/abs/2305.14359\n",
            "https://arxiv.org/abs/2305.10626\n",
            "https://arxiv.org/abs/2305.14243\n",
            "https://arxiv.org/abs/2305.14103\n",
            "https://arxiv.org/abs/2305.14074\n",
            "https://arxiv.org/abs/2305.14019\n",
            "https://arxiv.org/abs/2305.13823\n",
            "https://arxiv.org/abs/2305.13459\n",
            "https://arxiv.org/abs/2305.13452\n",
            "https://arxiv.org/abs/2305.14343\n",
            "https://arxiv.org/abs/2305.14333\n",
            "https://arxiv.org/abs/2305.14331\n",
            "https://arxiv.org/abs/2305.14330\n",
            "https://arxiv.org/abs/2305.14327\n",
            "https://arxiv.org/abs/2305.14325\n",
            "https://arxiv.org/abs/2305.14307\n",
            "https://arxiv.org/abs/2305.14302\n",
            "https://arxiv.org/abs/2305.14299\n",
            "https://arxiv.org/abs/2305.14286\n",
            "https://arxiv.org/abs/2305.14282\n",
            "https://arxiv.org/abs/2305.14264\n",
            "https://arxiv.org/abs/2305.14263\n",
            "https://arxiv.org/abs/2305.14259\n",
            "https://arxiv.org/abs/2305.14257\n",
            "https://arxiv.org/abs/2305.14251\n",
            "https://arxiv.org/abs/2305.14250\n",
            "https://arxiv.org/abs/2305.14240\n",
            "https://arxiv.org/abs/2305.14237\n",
            "https://arxiv.org/abs/2305.14235\n",
            "https://arxiv.org/abs/2305.14233\n",
            "https://arxiv.org/abs/2305.14223\n",
            "https://arxiv.org/abs/2305.14222\n",
            "https://arxiv.org/abs/2305.14218\n",
            "https://arxiv.org/abs/2305.14210\n",
            "https://arxiv.org/abs/2305.14201\n",
            "https://arxiv.org/abs/2305.14196\n",
            "https://arxiv.org/abs/2305.14195\n",
            "https://arxiv.org/abs/2305.14173\n",
            "https://arxiv.org/abs/2305.14167\n",
            "https://arxiv.org/abs/2305.14165\n",
            "https://arxiv.org/abs/2305.14152\n",
            "https://arxiv.org/abs/2305.14150\n",
            "https://arxiv.org/abs/2305.14142\n",
            "https://arxiv.org/abs/2305.14128\n",
            "https://arxiv.org/abs/2305.14126\n",
            "https://arxiv.org/abs/2305.14122\n",
            "https://arxiv.org/abs/2305.14109\n",
            "https://arxiv.org/abs/2305.14106\n",
            "https://arxiv.org/abs/2305.14105\n",
            "https://arxiv.org/abs/2305.14104\n",
            "https://arxiv.org/abs/2305.14098\n",
            "https://arxiv.org/abs/2305.14094\n",
            "https://arxiv.org/abs/2305.14091\n",
            "https://arxiv.org/abs/2305.14080\n",
            "https://arxiv.org/abs/2305.14065\n",
            "https://arxiv.org/abs/2305.14045\n",
            "https://arxiv.org/abs/2305.14020\n",
            "https://arxiv.org/abs/2305.13987\n",
            "https://arxiv.org/abs/2305.13981\n",
            "https://arxiv.org/abs/2305.13971\n",
            "https://arxiv.org/abs/2305.13967\n",
            "https://arxiv.org/abs/2305.13962\n",
            "https://arxiv.org/abs/2305.13954\n",
            "https://arxiv.org/abs/2305.13947\n",
            "https://arxiv.org/abs/2305.13941\n",
            "https://arxiv.org/abs/2305.13938\n",
            "https://arxiv.org/abs/2305.13934\n",
            "https://arxiv.org/abs/2305.13927\n",
            "https://arxiv.org/abs/2305.13926\n",
            "https://arxiv.org/abs/2305.13917\n",
            "https://arxiv.org/abs/2305.13886\n",
            "https://arxiv.org/abs/2305.13884\n",
            "https://arxiv.org/abs/2305.13880\n",
            "https://arxiv.org/abs/2305.13877\n",
            "https://arxiv.org/abs/2305.13875\n",
            "https://arxiv.org/abs/2305.13872\n",
            "https://arxiv.org/abs/2305.13869\n",
            "https://arxiv.org/abs/2305.13860\n",
            "https://arxiv.org/abs/2305.13858\n",
            "https://arxiv.org/abs/2305.13850\n",
            "https://arxiv.org/abs/2305.13840\n",
            "https://arxiv.org/abs/2305.13824\n",
            "https://arxiv.org/abs/2305.13821\n",
            "https://arxiv.org/abs/2305.13803\n",
            "https://arxiv.org/abs/2305.13796\n",
            "https://arxiv.org/abs/2305.13795\n",
            "https://arxiv.org/abs/2305.13788\n",
            "https://arxiv.org/abs/2305.13786\n",
            "https://arxiv.org/abs/2305.13783\n",
            "https://arxiv.org/abs/2305.13776\n"
          ]
        }
      ],
      "source": [
        "link_list = get_bs.find_all('span', class_='list-identifier')\n",
        "http = []\n",
        "for link in link_list:\n",
        "  print('https://arxiv.org/abs/'+str(link.text[6:16]))\n",
        "  http.append( 'https://arxiv.org/abs/'+str(link.text[6:16]))"
      ]
    },
    {
      "cell_type": "markdown",
      "metadata": {
        "id": "V2S9pr0eMoGM"
      },
      "source": [
        "### 2.  Đi đến đường dẫn mỗi bài báo, trích xuất các thông tin như: tên bài báo, tên tác giả, abstract của bài báo, subjects, đường dẫn download bài báo."
      ]
    },
    {
      "cell_type": "code",
      "execution_count": null,
      "metadata": {
        "id": "FTrDcO8i6A53"
      },
      "outputs": [],
      "source": [
        "Title = []\n",
        "Authors = []\n",
        "Abstract = []\n",
        "Subjects = []\n",
        "DownloadUrl = []"
      ]
    },
    {
      "cell_type": "code",
      "execution_count": null,
      "metadata": {
        "id": "jsZPIEdX4r2Q"
      },
      "outputs": [],
      "source": [
        "for link in http:\n",
        "  html = requests.get(link)\n",
        "  get_bs = BeautifulSoup(html.content, 'html.parser')\n",
        "  titles = get_bs.find_all('h1', class_ = 'title mathjax')\n",
        "  for title in titles:\n",
        "    Title.append(title.text[6:len(title.text)])\n",
        "  authors = get_bs.find_all('div', class_ = 'authors')\n",
        "  for author in authors:\n",
        "    Authors.append(author.text[8:len(author.text)])\n",
        "  abstracts = get_bs.find_all('blockquote', class_ = 'abstract mathjax')\n",
        "  for abstract in abstracts:\n",
        "    Abstract.append(abstract.text[12:len(abstract.text)])\n",
        "  subjects = get_bs.find_all('td', class_ = 'tablecell subjects')\n",
        "  for subject in subjects:\n",
        "    Subjects.append(subject.text[1:len(subject.text)])"
      ]
    },
    {
      "cell_type": "code",
      "execution_count": null,
      "metadata": {
        "id": "CY3eWEfWoFtG"
      },
      "outputs": [],
      "source": [
        "for link in link_list:\n",
        "  DownloadUrl.append( 'https://arxiv.org/pdf/'+str(link.text[6:16]))"
      ]
    },
    {
      "cell_type": "markdown",
      "metadata": {
        "id": "iHX2qQMDOIFp"
      },
      "source": [
        "> Do đường link download có cấu trúc tương tự đường link tới bài báo, chỉ khác `abs` là `pdf` nên ta xử lý riêng."
      ]
    },
    {
      "cell_type": "markdown",
      "metadata": {
        "id": "hC0jtlwWOYBn"
      },
      "source": [
        "### 3. Lưu tất cả các thông tin trên của tất cả bài báo thành định dạng file .csv, với các column là: Title, Authors, Abstract, Subjects, DownloadUrl"
      ]
    },
    {
      "cell_type": "code",
      "execution_count": null,
      "metadata": {
        "id": "PUePoyLHmxrQ"
      },
      "outputs": [],
      "source": [
        "import pandas as pd"
      ]
    },
    {
      "cell_type": "code",
      "execution_count": null,
      "metadata": {
        "id": "E3C7R-GddEW9"
      },
      "outputs": [],
      "source": [
        "news_list = pd.DataFrame(\n",
        "    {'Title': Title,\n",
        "     'Authors': Authors,\n",
        "     'Abstract': Abstract,\n",
        "     'Subjects' : Subjects,\n",
        "     'DownloadUrl': DownloadUrl\n",
        "    })"
      ]
    },
    {
      "cell_type": "code",
      "execution_count": null,
      "metadata": {
        "colab": {
          "base_uri": "https://localhost:8080/",
          "height": 337
        },
        "id": "u5ov77gzf98P",
        "outputId": "319963c7-b313-42d1-85e5-2d6ca352a8ed"
      },
      "outputs": [
        {
          "data": {
            "text/html": [
              "\n",
              "  <div id=\"df-b511c904-9383-4b64-9d49-513fcf81d3d5\">\n",
              "    <div class=\"colab-df-container\">\n",
              "      <div>\n",
              "<style scoped>\n",
              "    .dataframe tbody tr th:only-of-type {\n",
              "        vertical-align: middle;\n",
              "    }\n",
              "\n",
              "    .dataframe tbody tr th {\n",
              "        vertical-align: top;\n",
              "    }\n",
              "\n",
              "    .dataframe thead th {\n",
              "        text-align: right;\n",
              "    }\n",
              "</style>\n",
              "<table border=\"1\" class=\"dataframe\">\n",
              "  <thead>\n",
              "    <tr style=\"text-align: right;\">\n",
              "      <th></th>\n",
              "      <th>Title</th>\n",
              "      <th>Authors</th>\n",
              "      <th>Abstract</th>\n",
              "      <th>Subjects</th>\n",
              "      <th>DownloadUrl</th>\n",
              "    </tr>\n",
              "  </thead>\n",
              "  <tbody>\n",
              "    <tr>\n",
              "      <th>0</th>\n",
              "      <td>Voyager: An Open-Ended Embodied Agent with Lar...</td>\n",
              "      <td>Guanzhi Wang, Yuqi Xie, Yunfan Jiang, Ajay Man...</td>\n",
              "      <td>We introduce Voyager, the first LLM-powered em...</td>\n",
              "      <td>Artificial Intelligence (cs.AI); Machine Learn...</td>\n",
              "      <td>https://arxiv.org/pdf/2305.16291</td>\n",
              "    </tr>\n",
              "    <tr>\n",
              "      <th>1</th>\n",
              "      <td>UpMax: User partitioning for MaxSAT</td>\n",
              "      <td>Pedro Orvalho, Vasco Manquinho, Ruben Martins</td>\n",
              "      <td>It has been shown that Maximum Satisfiability ...</td>\n",
              "      <td>Artificial Intelligence (cs.AI); Logic in Comp...</td>\n",
              "      <td>https://arxiv.org/pdf/2305.16191</td>\n",
              "    </tr>\n",
              "    <tr>\n",
              "      <th>2</th>\n",
              "      <td>Understanding the Capabilities of Large Langua...</td>\n",
              "      <td>Vishal Pallagani, Bharath Muppasani, Keerthira...</td>\n",
              "      <td>Automated planning is concerned with developin...</td>\n",
              "      <td>Artificial Intelligence (cs.AI)</td>\n",
              "      <td>https://arxiv.org/pdf/2305.16151</td>\n",
              "    </tr>\n",
              "    <tr>\n",
              "      <th>3</th>\n",
              "      <td>A Diagnosis Algorithms for a Rotary Indexing M...</td>\n",
              "      <td>Maria Krantz, Oliver Niggemann</td>\n",
              "      <td>Rotary Indexing Machines (RIMs) are widely use...</td>\n",
              "      <td>Artificial Intelligence (cs.AI)</td>\n",
              "      <td>https://arxiv.org/pdf/2305.15934</td>\n",
              "    </tr>\n",
              "    <tr>\n",
              "      <th>4</th>\n",
              "      <td>Learning Assumption-based Argumentation Framew...</td>\n",
              "      <td>Maurizio Proietti, Francesca Toni</td>\n",
              "      <td>We propose a novel approach to logic-based lea...</td>\n",
              "      <td>Artificial Intelligence (cs.AI)</td>\n",
              "      <td>https://arxiv.org/pdf/2305.15921</td>\n",
              "    </tr>\n",
              "  </tbody>\n",
              "</table>\n",
              "</div>\n",
              "      <button class=\"colab-df-convert\" onclick=\"convertToInteractive('df-b511c904-9383-4b64-9d49-513fcf81d3d5')\"\n",
              "              title=\"Convert this dataframe to an interactive table.\"\n",
              "              style=\"display:none;\">\n",
              "        \n",
              "  <svg xmlns=\"http://www.w3.org/2000/svg\" height=\"24px\"viewBox=\"0 0 24 24\"\n",
              "       width=\"24px\">\n",
              "    <path d=\"M0 0h24v24H0V0z\" fill=\"none\"/>\n",
              "    <path d=\"M18.56 5.44l.94 2.06.94-2.06 2.06-.94-2.06-.94-.94-2.06-.94 2.06-2.06.94zm-11 1L8.5 8.5l.94-2.06 2.06-.94-2.06-.94L8.5 2.5l-.94 2.06-2.06.94zm10 10l.94 2.06.94-2.06 2.06-.94-2.06-.94-.94-2.06-.94 2.06-2.06.94z\"/><path d=\"M17.41 7.96l-1.37-1.37c-.4-.4-.92-.59-1.43-.59-.52 0-1.04.2-1.43.59L10.3 9.45l-7.72 7.72c-.78.78-.78 2.05 0 2.83L4 21.41c.39.39.9.59 1.41.59.51 0 1.02-.2 1.41-.59l7.78-7.78 2.81-2.81c.8-.78.8-2.07 0-2.86zM5.41 20L4 18.59l7.72-7.72 1.47 1.35L5.41 20z\"/>\n",
              "  </svg>\n",
              "      </button>\n",
              "      \n",
              "  <style>\n",
              "    .colab-df-container {\n",
              "      display:flex;\n",
              "      flex-wrap:wrap;\n",
              "      gap: 12px;\n",
              "    }\n",
              "\n",
              "    .colab-df-convert {\n",
              "      background-color: #E8F0FE;\n",
              "      border: none;\n",
              "      border-radius: 50%;\n",
              "      cursor: pointer;\n",
              "      display: none;\n",
              "      fill: #1967D2;\n",
              "      height: 32px;\n",
              "      padding: 0 0 0 0;\n",
              "      width: 32px;\n",
              "    }\n",
              "\n",
              "    .colab-df-convert:hover {\n",
              "      background-color: #E2EBFA;\n",
              "      box-shadow: 0px 1px 2px rgba(60, 64, 67, 0.3), 0px 1px 3px 1px rgba(60, 64, 67, 0.15);\n",
              "      fill: #174EA6;\n",
              "    }\n",
              "\n",
              "    [theme=dark] .colab-df-convert {\n",
              "      background-color: #3B4455;\n",
              "      fill: #D2E3FC;\n",
              "    }\n",
              "\n",
              "    [theme=dark] .colab-df-convert:hover {\n",
              "      background-color: #434B5C;\n",
              "      box-shadow: 0px 1px 3px 1px rgba(0, 0, 0, 0.15);\n",
              "      filter: drop-shadow(0px 1px 2px rgba(0, 0, 0, 0.3));\n",
              "      fill: #FFFFFF;\n",
              "    }\n",
              "  </style>\n",
              "\n",
              "      <script>\n",
              "        const buttonEl =\n",
              "          document.querySelector('#df-b511c904-9383-4b64-9d49-513fcf81d3d5 button.colab-df-convert');\n",
              "        buttonEl.style.display =\n",
              "          google.colab.kernel.accessAllowed ? 'block' : 'none';\n",
              "\n",
              "        async function convertToInteractive(key) {\n",
              "          const element = document.querySelector('#df-b511c904-9383-4b64-9d49-513fcf81d3d5');\n",
              "          const dataTable =\n",
              "            await google.colab.kernel.invokeFunction('convertToInteractive',\n",
              "                                                     [key], {});\n",
              "          if (!dataTable) return;\n",
              "\n",
              "          const docLinkHtml = 'Like what you see? Visit the ' +\n",
              "            '<a target=\"_blank\" href=https://colab.research.google.com/notebooks/data_table.ipynb>data table notebook</a>'\n",
              "            + ' to learn more about interactive tables.';\n",
              "          element.innerHTML = '';\n",
              "          dataTable['output_type'] = 'display_data';\n",
              "          await google.colab.output.renderOutput(dataTable, element);\n",
              "          const docLink = document.createElement('div');\n",
              "          docLink.innerHTML = docLinkHtml;\n",
              "          element.appendChild(docLink);\n",
              "        }\n",
              "      </script>\n",
              "    </div>\n",
              "  </div>\n",
              "  "
            ],
            "text/plain": [
              "                                               Title  \\\n",
              "0  Voyager: An Open-Ended Embodied Agent with Lar...   \n",
              "1                UpMax: User partitioning for MaxSAT   \n",
              "2  Understanding the Capabilities of Large Langua...   \n",
              "3  A Diagnosis Algorithms for a Rotary Indexing M...   \n",
              "4  Learning Assumption-based Argumentation Framew...   \n",
              "\n",
              "                                             Authors  \\\n",
              "0  Guanzhi Wang, Yuqi Xie, Yunfan Jiang, Ajay Man...   \n",
              "1      Pedro Orvalho, Vasco Manquinho, Ruben Martins   \n",
              "2  Vishal Pallagani, Bharath Muppasani, Keerthira...   \n",
              "3                     Maria Krantz, Oliver Niggemann   \n",
              "4                  Maurizio Proietti, Francesca Toni   \n",
              "\n",
              "                                            Abstract  \\\n",
              "0  We introduce Voyager, the first LLM-powered em...   \n",
              "1  It has been shown that Maximum Satisfiability ...   \n",
              "2  Automated planning is concerned with developin...   \n",
              "3  Rotary Indexing Machines (RIMs) are widely use...   \n",
              "4  We propose a novel approach to logic-based lea...   \n",
              "\n",
              "                                            Subjects  \\\n",
              "0  Artificial Intelligence (cs.AI); Machine Learn...   \n",
              "1  Artificial Intelligence (cs.AI); Logic in Comp...   \n",
              "2                    Artificial Intelligence (cs.AI)   \n",
              "3                    Artificial Intelligence (cs.AI)   \n",
              "4                    Artificial Intelligence (cs.AI)   \n",
              "\n",
              "                        DownloadUrl  \n",
              "0  https://arxiv.org/pdf/2305.16291  \n",
              "1  https://arxiv.org/pdf/2305.16191  \n",
              "2  https://arxiv.org/pdf/2305.16151  \n",
              "3  https://arxiv.org/pdf/2305.15934  \n",
              "4  https://arxiv.org/pdf/2305.15921  "
            ]
          },
          "execution_count": 29,
          "metadata": {},
          "output_type": "execute_result"
        }
      ],
      "source": [
        "news_list.head()"
      ]
    },
    {
      "cell_type": "code",
      "execution_count": null,
      "metadata": {
        "id": "BPTvCgBxnGBv"
      },
      "outputs": [],
      "source": [
        "news_list.to_csv('news.csv', index=False)"
      ]
    },
    {
      "cell_type": "markdown",
      "metadata": {
        "id": "Db0bbIKQOmoA"
      },
      "source": [
        "## **II. Regular Expression:**\n"
      ]
    },
    {
      "cell_type": "code",
      "execution_count": null,
      "metadata": {
        "colab": {
          "base_uri": "https://localhost:8080/"
        },
        "id": "3Cvrakv9Y9B8",
        "outputId": "5e953c82-38c8-4b0d-a886-370ba45f067b"
      },
      "outputs": [
        {
          "name": "stdout",
          "output_type": "stream",
          "text": [
            "Drive already mounted at /content/drive; to attempt to forcibly remount, call drive.mount(\"/content/drive\", force_remount=True).\n"
          ]
        }
      ],
      "source": [
        "from google.colab import drive\n",
        "drive.mount('/content/drive')"
      ]
    },
    {
      "cell_type": "markdown",
      "metadata": {
        "id": "NGbAUtlIO40y"
      },
      "source": [
        "* Sử dụng file txt văn bản pháp luật được cung cấp"
      ]
    },
    {
      "cell_type": "code",
      "execution_count": null,
      "metadata": {
        "id": "hK4mnNgeY_ED"
      },
      "outputs": [],
      "source": [
        "path = \"/content/drive/MyDrive/Nam2_KHDL/lab/5.txt\""
      ]
    },
    {
      "cell_type": "code",
      "execution_count": null,
      "metadata": {
        "id": "I-usSr8KZj4j"
      },
      "outputs": [],
      "source": [
        "with open(path, 'r') as f:\n",
        "  txt = f.read()"
      ]
    },
    {
      "cell_type": "code",
      "execution_count": null,
      "metadata": {
        "colab": {
          "base_uri": "https://localhost:8080/"
        },
        "id": "pzk9AG9jZqL_",
        "outputId": "6865396e-01c7-4f71-c408-276c2338c3b9"
      },
      "outputs": [
        {
          "name": "stdout",
          "output_type": "stream",
          "text": [
            "BỘ VĂN HÓA, THỂ THAO VÀ DU LỊCH --------\n",
            "CỘNG HÒA XÃ HỘI CHỦ NGHĨA VIỆT NAM Độc lập - Tự do - Hạnh phúc ---------------\n",
            "Số: 02/2023/TT-BVHTTDL\n",
            "Hà Nội, ngày 21 tháng 02 năm 2023\n",
            "\n",
            "THÔNG TƯ\n",
            "QUY ĐỊNH MÃ SỐ, TIÊU CHUẨN CHỨC DANH NGHỀ NGHIỆP VÀ XẾP LƯƠNG VIÊN CHỨC CHUYÊN NGÀNH TUYÊN TRUYỀN VIÊN VĂN HÓA\n",
            "Căn cứ Luật Viên chức ngày 15 tháng 11 năm 2010;\n",
            "Căn cứ Luật sửa đổi, bổ sung một số điều của Luật Cán bộ, công chức và Luật Viên chức ngày 25 tháng 11 năm 2019;\n",
            "Căn cứ Nghị định số 204/2004/NĐ-CP ngày 14 tháng 12 năm 2004 của Chính phủ về chế độ tiền lương đối với cán bộ, công chức, viên chức và lực lượng vũ trang và Nghị định số 17/2013/NĐ-CP ngày 19 tháng 02 năm 2013 của Chính phủ sửa đổi, bổ sung một số điều của Nghị định số 204/2004/NĐ-CP ngày 14 tháng 12 năm 2004 của Chính phủ về chế độ tiền lương đối với cán bộ, công chức, viên chức và lực lượng vũ trang;\n",
            "Căn cứ Nghị định số 01/2023/NĐ-CP ngày 16 tháng 01 năm 2023 của Chính phủ quy định chức năng, nhiệm vụ, quyền hạn và cơ cấu tổ chức của Bộ Văn hoá, Thể thao và Du lịch;\n",
            "Căn cứ Nghị định số 115/2020/NĐ-CP ngày 25 tháng 9 năm 2020 của Chính phủ quy định về tuyển dụng, sử dụng và quản lý viên chức;\n",
            "Theo đề nghị của Vụ trưởng Vụ Tổ chức cán bộ;\n",
            "Bộ trưởng Bộ Văn hóa, Thể thao và Du lịch ban hành Thông tư quy định mã số, tiêu chuẩn chức danh nghề nghiệp và xếp lương viên chức chuyên ngành tuyên truyền viên văn hóa.\n",
            "Chương I\n",
            "QUY ĐỊNH CHUNG\n",
            "Điều 1. Phạm vi điều chỉnh và đối tượng áp dụng\n",
            "1. Thông tư này quy định mã số, tiêu chuẩn chức danh nghề nghiệp và xếp lương viên chức chuyên ngành tuyên truyền viên văn hóa.\n",
            "2. Thông tư này áp dụng đối với viên chức tuyên truyền viên văn hóa làm việc trong các đơn vị sự nghiệp công lập và các tổ chức, cá nhân có liên quan.\n",
            "Điều 2. Mã số các chức danh nghề nghiệp viên chức chuyên ngành tuyên truyền viên văn hóa\n",
            "1. Tuyên truyền viên văn hóa chính Mã số: V.10.10.34\n",
            "2. Tuyên truyền viên văn hóa Mã số: V.10.10.35\n",
            "3. Tuyên truyền viên văn hóa trung cấp Mã số: V.10.10.36\n",
            "Điều 3. Tiêu chuẩn về đạo đức nghề nghiệp của viên chức chuyên ngành tuyên truyền viên văn hóa\n",
            "1. Có trách nhiệm với công việc được giao, tuân thủ các quy định của pháp luật; thực hiện đúng và đầy đủ nghĩa vụ của viên chức trong hoạt động nghề nghiệp.\n",
            "2. Tâm huyết với nghề, trung thực, khách quan, thẳng thắn; làm việc khoa học, có chính kiến rõ ràng; có thái độ khiêm tốn, đúng mực khi tiếp xúc với nhân dân; có ý thức đấu tranh với những hành vi sai trái, tiêu cực; thực hành tiết kiệm, chống lãng phí.\n",
            "3. Có tinh thần đoàn kết, tích cực, chủ động phối hợp với đồng nghiệp thực hiện nhiệm vụ được giao.\n",
            "4. Không ngừng học tập, rèn luyện nâng cao phẩm chất, trình độ, năng lực.\n",
            "Chương II\n",
            "TIÊU CHUẨN CHỨC DANH NGHỀ NGHIỆP\n",
            "Điều 4. Tuyên truyền viên văn hóa chính - Mã số: V.10.10.34\n",
            "1. Nhiệm vụ:\n",
            "a) Chủ trì xây dựng kế hoạch hoạt động dài hạn, trung hạn, hàng năm về hoạt động tuyên truyền của đơn vị và tổ chức thực hiện sau khi được phê duyệt;\n",
            "b) Chủ trì biên soạn tài liệu và trực tiếp hướng dẫn nghiệp vụ hoạt động tuyên truyền cho cơ sở;\n",
            "c) Chủ trì tổ chức và thực hiện biên tập nội dung chương trình tuyên truyền phục vụ nhiệm vụ chính trị, kinh tế, văn hóa, xã hội; các phong trào, các cuộc vận động lớn; các ngày lễ, kỉ niệm lớn của địa phương và đất nước;\n",
            "d) Tổ chức biên soạn, biên tập các thể loại tin tức, tài liệu tuyên truyền; sáng tác, dàn dựng chương trình, tiết mục văn nghệ, tuyên truyền lưu động; thiết kế, dàn dựng triển lãm, cổ động trực quan;\n",
            "đ) Tham gia các hoạt động đào tạo, bồi dưỡng, hướng dẫn chuyên môn, nghiệp vụ hoạt động tuyên truyền.\n",
            "2. Tiêu chuẩn về trình độ đào tạo, bồi dưỡng:\n",
            "a) Có bằng tốt nghiệp đại học trở lên phù hợp với chuyên ngành tuyên truyền viên văn hóa;\n",
            "b) Có chứng chỉ bồi dưỡng tiêu chuẩn chức danh nghề nghiệp tuyên truyền viên văn hóa.\n",
            "3. Tiêu chuẩn về năng lực chuyên môn, nghiệp vụ:\n",
            "a) Nắm vững chủ trương, đường lối của Đảng, chính sách, pháp luật của Nhà nước về hoạt động tuyên truyền;\n",
            "b) Nắm vững phương pháp tổ chức, hình thức hoạt động tuyên truyền;\n",
            "c) Nắm vững lịch sử, văn hóa, xã hội trên địa bàn được phân công quản lý;\n",
            "d) Có chuyên môn về lĩnh vực văn hóa, nghệ thuật; am hiểu kiến thức, kỹ năng nghiệp vụ tuyên truyền;\n",
            "đ) Có năng lực thu thập, phân tích, tổng hợp và đề xuất các giải pháp để nâng cao chất lượng công tác tuyên truyền ;\n",
            "e) Có kỹ năng sử dụng công nghệ thông tin cơ bản, sử dụng được ngoại ngữ hoặc sử dụng được tiếng dân tộc thiểu số đối với viên chức công tác ở vùng dân tộc thiểu số theo yêu cầu vị trí việc làm.\n",
            "4. Yêu cầu đối với viên chức dự thi hoặc xét thăng hạng chức danh nghề nghiệp tuyên truyền viên văn hóa chính:\n",
            "Có thời gian công tác giữ chức danh nghề nghiệp tuyên truyền viên văn hóa hoặc tương đương từ đủ 09 năm trở lên (không kể thời gian tập sự, thử việc). Trường hợp có thời gian tương đương thì phải có ít nhất 01 năm (đủ 12 tháng) đang giữ chức danh nghề nghiệp tuyên truyền viên văn hóa tính đến ngày hết thời hạn nộp hồ sơ đăng ký dự thi hoặc xét thăng hạng.\n",
            "Điều 5. Tuyên truyền viên văn hóa - Mã số: V.10.10.35\n",
            "1. Nhiệm vụ:\n",
            "a) Xây dựng kế hoạch hàng năm về công tác tuyên truyền được giao và tổ chức thực hiện sau khi được phê duyệt;\n",
            "b) Trực tiếp biên soạn, thiết kế, trình bày các thể loại tin tức, tài liệu tuyên truyền; thực hiện tuyên truyền bằng tin tức, lời nói trực tiếp, thuyết minh, thuyết trình theo đề cương biên tập đã được duyệt;\n",
            "c) Tham gia tổ chức, dàn dựng chương trình, tiết mục văn nghệ, tuyên truyền lưu động; trực tiếp biểu diễn các tiết mục văn nghệ phục vụ nhiệm vụ chính trị;\n",
            "d) Tham gia thiết kế, dàn dựng các triển lãm, cổ động trực quan tại chỗ và lưu động; trực tiếp xây dựng đề cương tổng quát, đề cương chi tiết, biên tập, chú thích hình ảnh theo chủ đề, viết bài, thuyết minh nội dung triển lãm tại chỗ và lưu động.\n",
            "2. Tiêu chuẩn về trình độ đào tạo, bồi dưỡng:\n",
            "a) Có bằng tốt nghiệp đại học trở lên phù hợp với chuyên ngành tuyên truyền viên văn hóa;\n",
            "b) Có chứng chỉ bồi dưỡng tiêu chuẩn chức danh nghề nghiệp tuyên truyền viên văn hóa.\n",
            "3. Tiêu chuẩn về năng lực chuyên môn, nghiệp vụ:\n",
            "a) Nắm vững chủ trương, đường lối của Đảng, chính sách, pháp luật của Nhà nước về hoạt động tuyên truyền;\n",
            "b) Nắm được phương pháp tổ chức, hình thức hoạt động tuyên truyền;\n",
            "c) Có hiểu biết về lịch sử, văn hóa, xã hội trên địa bàn được phân công quản lý;\n",
            "d) Có kiến thức về lĩnh vực văn hóa, nghệ thuật; có một trong các kỹ năng: Thuyết minh, thuyết trình, biểu diễn nhạc cụ, biểu diễn văn nghệ, hội họa, thiết kế, thi công cổ động trực quan hoặc các kỹ năng nghiệp vụ khác phù hợp với hình thức tuyên truyền;\n",
            "đ) Sử dụng thành thạo các phương tiện, thiết bị kỹ thuật phục vụ yêu cầu nhiệm vụ;\n",
            "e) Có kỹ năng sử dụng công nghệ thông tin cơ bản, sử dụng được ngoại ngữ hoặc sử dụng được tiếng dân tộc thiểu số đối với viên chức công tác ở vùng dân tộc thiểu số theo yêu cầu vị trí việc làm.\n",
            "4. Yêu cầu đối với viên chức dự thi hoặc xét thăng hạng chức danh nghề nghiệp tuyên truyền viên văn hóa:\n",
            "Có thời gian công tác giữ chức danh nghề nghiệp tuyên truyền viên văn hoá trung cấp hoặc tương đương từ đủ 03 năm trở lên (không kể thời gian tập sự, thử việc). Trường hợp có thời gian tương đương thì phải có ít nhất 01 năm (đủ 12 tháng) đang giữ chức danh tuyên truyền viên văn hoá trung cấp tính đến ngày hết hạn nộp hồ sơ đăng ký dự thi hoặc xét thăng hạng.\n",
            "Điều 6. Tuyên truyền viên văn hóa trung cấp - Mã số: V.10.10.36\n",
            "1. Nhiệm vụ:\n",
            "a) Trực tiếp tham gia thực hiện tổ chức, biểu diễn các hoạt động tuyên truyền lưu động, hoạt động văn hóa, văn nghệ và các hình thức tuyên truyền cổ động khác tại chỗ hoặc lưu động phù hợp với nhiệm vụ được giao;\n",
            "b) Chụp ảnh, quay phim, thực hiện audio làm tư liệu phục vụ nội dung tuyên truyền.\n",
            "2. Tiêu chuẩn về trình độ đào tạo, bồi dưỡng:\n",
            "a) Có bằng tốt nghiệp trung cấp trở lên phù hợp với chuyên ngành tuyên truyền viên văn hóa;\n",
            "b) Có chứng chỉ bồi dưỡng tiêu chuẩn chức danh nghề nghiệp tuyên truyền viên văn hóa.\n",
            "3. Tiêu chuẩn về năng lực chuyên môn, nghiệp vụ:\n",
            "a) Nắm được chủ trương, đường lối của Đảng, chính sách, pháp luật của Nhà nước về hoạt động tuyên truyền;\n",
            "b) Có kiến thức cơ bản về công tác tuyên truyền và các bộ môn văn hóa nghệ thuật liên quan; có một trong các kỹ năng: Thuyết minh, thuyết trình, biểu diễn nhạc cụ, biểu diễn văn nghệ, hội họa, thiết kế, thi công cổ động trực quan hoặc các kỹ năng nghiệp vụ khác phù hợp với hình thức tuyên truyền;\n",
            "c) Sử dụng được các phương tiện, thiết bị kỹ thuật phục vụ yêu cầu nhiệm vụ;\n",
            "d) Có khả năng ứng dụng công nghệ thông tin cơ bản để thực hiện nhiệm vụ được giao.\n",
            "Chương III\n",
            "XẾP LƯƠNG CHỨC DANH NGHỀ NGHIỆP VIÊN CHỨC CHUYÊN NGÀNH TUYÊN TRUYỀN VIÊN VĂN HÓA\n",
            "Điều 7. Nguyên tắc xếp lương chức danh nghề nghiệp đối với viên chức chuyên ngành tuyên truyền viên văn hóa\n",
            "1. Việc bổ nhiệm và xếp lương vào chức danh nghề nghiệp viên chức chuyên ngành tuyên truyền viên văn hóa quy định tại Thông tư này phải căn cứ vào vị trí việc làm, chức trách, nhiệm vụ và chuyên môn, nghiệp vụ đang đảm nhận của viên chức.\n",
            "2. Khi bổ nhiệm và xếp lương vào các chức danh nghề nghiệp viên chức chuyên ngành tuyên truyền viên văn hóa tương ứng không được kết hợp nâng bậc lương hoặc thăng hạng chức danh nghề nghiệp viên chức.\n",
            "Điều 8. Cách xếp lương\n",
            "1. Các chức danh nghề nghiệp viên chức chuyên ngành tuyên truyền viên văn hóa quy định tại Thông tư này được áp dụng Bảng 3 (Bảng lương chuyên môn, nghiệp vụ đối với cán bộ, viên chức trong các đơn vị sự nghiệp của Nhà nước) ban hành kèm theo Nghị định số 204/2004/NĐ-CP ngày 14 tháng 12 năm 2004 của Chính phủ về chế độ tiền lương đối với cán bộ, công chức, viên chức và lực lượng vũ trang (sau đây viết tắt là Nghị định số 204/2004/NĐ-CP), cụ thể như sau:\n",
            "a) Chức danh nghề nghiệp tuyên truyền viên văn hóa chính được áp dụng ngạch lương của viên chức loại A2, nhóm 2 (A2.2), từ hệ số lương 4,00 đến hệ số lương 6,38;\n",
            "b) Chức danh nghề nghiệp tuyên truyền viên văn hóa được áp dụng ngạch lương của viên chức loại A1, từ hệ số lương 2,34 đến hệ số lương 4,98;\n",
            "c) Chức danh nghề nghiệp tuyên truyền viên văn hóa trung cấp được áp dụng ngạch lương của viên chức loại B, từ hệ số lương 1,86 đến hệ số lương 4,06.\n",
            "2. Sau khi hết thời gian tập sự theo quy định và được cấp có thẩm quyền quản lý viên chức quyết định bổ nhiệm chức danh nghề nghiệp viên chức tuyên truyền viên văn hóa thì thực hiện xếp bậc lương theo chức danh nghề nghiệp được bổ nhiệm như sau:\n",
            "a) Trường hợp bổ nhiệm chức danh nghề nghiệp tuyên truyền viên văn hóa trung cấp:\n",
            "Viên chức có trình độ đào tạo trung cấp khi tuyển dụng, phù hợp với vị trí việc làm tuyển dụng được xếp bậc 1, hệ số lương 1,86, ngạch viên chức loại B;\n",
            "Viên chức có trình độ đào tạo cao đẳng trở lên khi tuyển dụng, phù hợp với vị trí việc làm tuyển dụng được xếp bậc 2, hệ số lương 2,06, ngạch viên chức loại B.\n",
            "b) Trường hợp bổ nhiệm chức danh nghề nghiệp tuyên truyền viên văn hóa:\n",
            "Viên chức có trình độ đào tạo đại học khi tuyển dụng, phù hợp với vị trí việc làm tuyển dụng được xếp bậc 1, hệ số lương 2,34, ngạch viên chức loại A1;\n",
            "Viên chức có trình độ đào tạo thạc sỹ khi tuyển dụng, phù hợp với vị trí việc làm tuyển dụng được xếp bậc 2, hệ số lương 2,67, ngạch viên chức loại A1;\n",
            "Viên chức có trình độ đào tạo tiến sỹ khi tuyển dụng, phù hợp với vị trí việc làm tuyển dụng được xếp bậc 3, hệ số lương 3,00, ngạch viên chức loại A1.\n",
            "3. Việc chuyển xếp lương đối với viên chức từ chức danh nghề nghiệp hiện giữ sang chức danh nghề nghiệp tuyên truyền viên văn hóa quy định tại Thông tư này thực hiện theo hướng dẫn tại Mục II Thông tư số 02/2007/TT- BNV ngày 25 tháng 5 năm 2007 của Bộ trưởng Bộ Nội vụ hướng dẫn xếp lương khi nâng ngạch, chuyển ngạch, chuyển loại công chức, viên chức (sau đây viết tắt là Thông tư số 02/2007/TT-BNV).\n",
            "Chương IV\n",
            "ĐIỀU KHOẢN THI HÀNH\n",
            "Điều 9. Quy định chuyển tiếp\n",
            "1. Viên chức đã được bổ nhiệm vào các ngạch viên chức tuyên truyền viên theo quy định tại Quyết định số 428/TCCP-VC ngày 02 tháng 6 năm 1993 của Bộ trưởng - Trưởng ban Ban Tổ chức - Cán bộ Chính phủ (nay là Bộ trưởng Bộ Nội vụ) ban hành tiêu chuẩn nghiệp vụ ngạch công chức ngành Văn hóa - Thông tin (sau đây viết tắt là Quyết định số 428/TCCP-VC), Quyết định số 78/2004/QĐ-BNV ngày 03 tháng 11 năm 2004 của Bộ trưởng Bộ Nội vụ ban hành danh mục các ngạch công chức và ngạch viên chức (sau đây viết tắt là Quyết định số 78/2004/QĐ-BNV), Thông tư số 80/2005/TT-BNV ngày 10 tháng 8 năm 2005 của Bộ trưởng Bộ Nội vụ hướng dẫn thực hiện chuyển xếp lương đối với cán bộ, công chức, viên chức có trình độ cao đẳng phù hợp với chuyên môn đang làm được bổ nhiệm vào chức danh nghề nghiệp viên chức chuyên ngành tuyên truyền viên văn hóa quy định tại Thông tư này, như sau:\n",
            "a) Bổ nhiệm vào chức danh nghề nghiệp tuyên truyền viên văn hóa (mã số V.10.10.35) đối với viên chức hiện đang giữ ngạch tuyên truyền viên chính (mã số 17.177).\n",
            "b) Bổ nhiệm vào chức danh nghề nghiệp tuyên truyền viên văn hóa trung cấp (mã số V.10.10.36) đối với viên chức hiện đang giữ ngạch tuyên truyền viên cao đẳng (mã số 17a.177) hoặc tuyên truyền viên (mã số 17.178).\n",
            "2. Việc chuyển xếp lương vào chức danh nghề nghiệp viên chức quy định tại khoản 1 Điều này đối với viên chức đã được xếp lương vào các ngạch viên chức tuyên truyền viên theo quy định tại Quyết định số 428/TCCP-VC, Quyết định số 78/2004/QĐ-BNV và Nghị định số 204/2004/NĐ-CP được thực hiện theo hướng dẫn tại Thông tư số 02/2007/TT-BNV như sau:\n",
            "a) Trường hợp viên chức có hệ số bậc lương bằng ở ngạch cũ thì thực hiện xếp ngang bậc lương và % phụ cấp thâm niên vượt khung (nếu có) đang hưởng ở ngạch cũ (kể cả tính thời gian xét nâng bậc lương lần sau hoặc xét hưởng phụ cấp thâm niên vượt khung nếu có ở ngạch cũ) vào chức danh nghề nghiệp mới được bổ nhiệm.\n",
            "b) Trường hợp viên chức có trình độ cao đẳng khi tuyển dụng đã được xếp lương viên chức loại A0 theo quy định tại Nghị định số 204/2004/NĐ -CP nay được bổ nhiệm vào chức danh nghề nghiệp tuyên truyền viên văn hóa trung cấp thì việc xếp bậc lương căn cứ vào thời gian công tác có đóng bảo hiểm xã hội bắt buộc theo thang lương, bảng lương do Nhà nước quy định (trừ thời gian tập sự) như sau:\n",
            "Tính từ bậc 2 bảng lương viên chức loại B, cứ sau thời gian 02 năm (đủ 24 tháng) được xếp lên 01 bậc lương (nếu có thời gian đứt quãng mà chưa hưởng chế độ bảo hiểm xã hội thì được cộng dồn). Trường hợp trong thời gian công tác có năm không hoàn thành nhiệm vụ được giao hoặc bị kỷ luật thì bị kéo dài thêm theo chế độ nâng bậc lương thường xuyên. Trường hợp trong thời gian công tác được nâng bậc lương trước thời hạn do lập thành tích xuất sắc trong thực hiện nhiệm vụ thì thời gian được nâng bậc lương trước thời hạ n được tính để xếp lên bậc lương cao hơn trước thời hạn tương ứng. Sau khi quy đổi thời gian để xếp vào bậc lương của chức danh nghề nghiệp được bổ nhiệm, nếu có số tháng chưa đủ 24 tháng, thì số tháng này được tính vào thời gian để xét nâng bậc lương lần sau hoặc xét hưởng phụ cấp thâm niên vượt khung (nếu có).\n",
            "Sau khi chuyển xếp lương vào chức danh nghề nghiệp tuyên truyền viên văn hóa trung cấp nêu trên, nếu hệ số lương được xếp ở chức danh nghề nghiệp này cộng với phụ cấp thâm niên vượt khung (nếu có) thấp hơn hệ số lương đã hưởng ở ngạch cũ thì được hưởng hệ số chênh lệch bảo lưu cho bằng hệ số lương (kể cả phụ cấp thâm niên vượt khung, nếu có) đang hưởng ở ngạch cũ. Hệ số chênh lệch bảo lưu này được hưởng trong suốt thời gian viên chức xếp lương ở chức danh nghề nghiệp tuyên truyền viên văn hóa trung cấp. Sau đó, nếu viên chức được thăng hạng chức danh nghề nghiệp thì được cộng hệ số chênh lệch bảo lưu này vào hệ số lương (kể cả phụ cấp thâm niên vượt khung, nếu có) đang hưởng để xếp lương vào chức danh được bổ nhiệm khi thăng hạng chức danh nghề nghiệp và thôi hưởng hệ số chênh lệch bảo lưu kể từ ngày hưởng lương ở chức danh nghề nghiệp mới.\n",
            "3. Viên chức đã được bổ nhiệm vào các ngạch tuyên truyền viên theo quy định của pháp luật từ trước ngày Thông tư này có hiệu lực thi hành thì được xác định là đáp ứng quy định về tiêu chuẩn chức danh nghề nghiệp viên chức chuyên ngành tuyên truyền viên văn hóa quy định tại Thông tư này tương ứng với chức danh nghề nghiệp đã được bổ nhiệm.\n",
            "Điều 10. Tổ chức thực hiện\n",
            "1. Thông tư này là căn cứ để thực hiện việc tuyển dụng, sử dụng và quản lý viên chức chuyên ngành tuyên truyền viên văn hóa làm việc trong các đơn vị sự nghiệp công lập.\n",
            "2. Người đứng đầu các đơn vị sự nghiệp công lập trực tiếp quản lý và sử dụng viên chức có trách nhiệm:\n",
            "a) Rà soát vị trí việc làm của đơn vị, lập phương án bổ nhiệm chức danh nghề nghiệp viên chức chuyên ngành tuyên truyền viên văn hóa thuộc thẩm quyền quản lý, trình cấp có thẩm quyền xem xét, quyết định hoặc quyết định theo thẩm quyền phân cấp;\n",
            "b) Quyết định bổ nhiệm chức danh nghề nghiệp chuyên ngành tuyên truyền viên văn hóa trong các đơn vị sự nghiệp công lập theo thẩm quyền hoặc theo phân cấp, ủy quyền sau khi phương án bổ nhiệm chức danh nghề nghiệp được cấp có thẩm quyền phê duyệt.\n",
            "3. Các Bộ, cơ quan ngang Bộ, cơ quan thuộc Chính phủ, Ủy ban nhân dân tỉnh, thành phố trực thuộc trung ương có trách nhiệm:\n",
            "a) Chỉ đạo các đơn vị thuộc phạm vi quản lý thực hiện bổ nhiệm chức danh nghề nghiệp và xếp lương đối với viên chức giữ chức danh nghề nghiệp chuyên ngành tuyên truyền viên văn hóa theo quy định;\n",
            "b) Quyết định hoặc phân cấp, ủy quyền việc bổ nhiệm và xếp lương chức danh nghề nghiệp chuyên ngành tuyên truyền viên văn hóa đối với viên chức thuộc thẩm quyền quản lý; giải quyết theo thẩm quyền những vướng mắc trong quá trình bổ nhiệm chức danh nghề nghiệp và xếp lương.\n",
            "4. Các tổ chức, đơn vị sự nghiệp ngoài công lập có thể áp dụng quy định tại Thông tư này để tuyển dụng, sử dụng và quản lý đội ngũ người làm việc về chuyên ngành tuyên truyền viên văn hóa.\n",
            "Điều 11. Hiệu lực thi hành\n",
            "1. Thông tư này có hiệu lực thi hành kể từ ngày 10 tháng 4 năm 2023.\n",
            "2. Trường hợp các văn bản dẫn chiếu tại Thông tư này được sửa đổi, bổ sung hoặc thay thế thì thực hiện theo các văn bản đã được sửa đổi, bổ sung hoặc thay thế.\n",
            "Điều 12. Trách nhiệm thi hành\n",
            "1. Bộ trưởng, Thủ trưởng cơ quan ngang Bộ, Thủ trưởng cơ quan thuộc Chính phủ, Chủ tịch Ủy ban nhân dân tỉnh, thành phố trực thuộc trung ương và cơ quan, đơn vị, cá nhân có liên quan chịu trách nhiệm thi hành Thông tư này.\n",
            "2. Trong quá trình thực hiện nếu phát sinh vướng mắc, đề nghị cơ quan, đơn vị, cá nhân kịp thời phản ánh về Bộ Văn hóa, Thể thao và Du lịch để nghiên cứu sửa đổi, bổ sung cho phù hợp.\n",
            "\n",
            "\n",
            "Nơi nhận: - Thủ tướng Chính phủ; - Các Phó Thủ tướng Chính phủ; - Văn phòng Trung ương Đảng; - Văn phòng Chủ tịch nước; - Văn phòng Quốc hội; - Văn phòng Chính phủ; - Tòa án nhân dân tối cao; - Viện Kiểm sát nhân dân tối cao; - Các Bộ, cơ quan ngang Bộ, cơ quan thuộc Chính phủ; - HĐND, UBND các tỉnh, thành phố trực thuộc TW; - Ủy ban TW Mặt trận Tổ quốc Việt Nam; - Cơ quan Trung ương của các đoàn thể; - Cục Kiểm tra VBQPPL-Bộ Tư pháp; - Bộ trưởng, các Thứ trưởng Bộ VHTTDL; - Các Tổng Cục, Cục, Vụ, đơn vị thuộc Bộ VHTTDL; - Sở VHTTDL, Sở VHTT, Sở DL; - Công báo; Cổng TTĐT Chính phủ: Cơ sở dữ liệu quốc gia về pháp luật; - Cổng TTĐT Bộ VHTTDL; - Lưu: VT, Vụ TCCB(300).\n",
            "BỘ TRƯỞNG Nguyễn Văn Hùng\n",
            "\n",
            "\n",
            "\n",
            "\n"
          ]
        }
      ],
      "source": [
        "print(txt)"
      ]
    },
    {
      "cell_type": "code",
      "execution_count": null,
      "metadata": {
        "id": "PaOAAJUFZxbr"
      },
      "outputs": [],
      "source": [
        "import re"
      ]
    },
    {
      "cell_type": "markdown",
      "metadata": {
        "id": "oDnwd4STZ2pz"
      },
      "source": [
        "### 1. Trích xuất tất cả các định dạng ngày tháng năm có trong văn bản."
      ]
    },
    {
      "cell_type": "code",
      "execution_count": null,
      "metadata": {
        "id": "-z61_hN9ZzrL"
      },
      "outputs": [],
      "source": [
        "x1 = re.findall(\"ngày\\s[0-3]\\d{1,2}\\stháng\\s\\d{1,2}\\snăm\\s[1-2]\\d{3}\",txt)"
      ]
    },
    {
      "cell_type": "code",
      "execution_count": null,
      "metadata": {
        "colab": {
          "base_uri": "https://localhost:8080/"
        },
        "id": "9T6jN_IpydGp",
        "outputId": "d2dbf0d1-3cca-4564-e1f6-8ce78fe89aa7"
      },
      "outputs": [
        {
          "name": "stdout",
          "output_type": "stream",
          "text": [
            "ngày 21 tháng 02 năm 2023\n",
            "ngày 15 tháng 11 năm 2010\n",
            "ngày 25 tháng 11 năm 2019\n",
            "ngày 14 tháng 12 năm 2004\n",
            "ngày 19 tháng 02 năm 2013\n",
            "ngày 14 tháng 12 năm 2004\n",
            "ngày 16 tháng 01 năm 2023\n",
            "ngày 25 tháng 9 năm 2020\n",
            "ngày 14 tháng 12 năm 2004\n",
            "ngày 25 tháng 5 năm 2007\n",
            "ngày 02 tháng 6 năm 1993\n",
            "ngày 03 tháng 11 năm 2004\n",
            "ngày 10 tháng 8 năm 2005\n",
            "ngày 10 tháng 4 năm 2023\n"
          ]
        }
      ],
      "source": [
        "for x in x1:\n",
        "  print(x)"
      ]
    },
    {
      "cell_type": "markdown",
      "metadata": {
        "id": "UWpE-JmlzdPO"
      },
      "source": [
        "### 2. Split văn bản thành danh sách các điều luật."
      ]
    },
    {
      "cell_type": "code",
      "execution_count": null,
      "metadata": {
        "colab": {
          "base_uri": "https://localhost:8080/"
        },
        "id": "LXdygngbye-l",
        "outputId": "4402dae6-684e-441c-8167-aa24e25111d2"
      },
      "outputs": [
        {
          "name": "stdout",
          "output_type": "stream",
          "text": [
            "Điều 1. Phạm vi điều chỉnh và đối tượng áp dụng\n",
            "1. Thông tư này quy định mã số, tiêu chuẩn chức danh nghề nghiệp và xếp lương viên chức chuyên ngành tuyên truyền viên văn hóa.\n",
            "2. Thông tư này áp dụng đối với viên chức tuyên truyền viên văn hóa làm việc trong các đơn vị sự nghiệp công lập và các tổ chức, cá nhân có liên quan.\n",
            "\n",
            "Điều 2. Mã số các chức danh nghề nghiệp viên chức chuyên ngành tuyên truyền viên văn hóa\n",
            "1. Tuyên truyền viên văn hóa chính Mã số: V.10.10.34\n",
            "2. Tuyên truyền viên văn hóa Mã số: V.10.10.35\n",
            "3. Tuyên truyền viên văn hóa trung cấp Mã số: V.10.10.36\n",
            "\n",
            "Điều 3. Tiêu chuẩn về đạo đức nghề nghiệp của viên chức chuyên ngành tuyên truyền viên văn hóa\n",
            "1. Có trách nhiệm với công việc được giao, tuân thủ các quy định của pháp luật; thực hiện đúng và đầy đủ nghĩa vụ của viên chức trong hoạt động nghề nghiệp.\n",
            "2. Tâm huyết với nghề, trung thực, khách quan, thẳng thắn; làm việc khoa học, có chính kiến rõ ràng; có thái độ khiêm tốn, đúng mực khi tiếp xúc với nhân dân; có ý thức đấu tranh với những hành vi sai trái, tiêu cực; thực hành tiết kiệm, chống lãng phí.\n",
            "3. Có tinh thần đoàn kết, tích cực, chủ động phối hợp với đồng nghiệp thực hiện nhiệm vụ được giao.\n",
            "4. Không ngừng học tập, rèn luyện nâng cao phẩm chất, trình độ, năng lực.\n",
            "\n",
            "Điều 4. Tuyên truyền viên văn hóa chính - Mã số: V.10.10.34\n",
            "1. Nhiệm vụ:\n",
            "a) Chủ trì xây dựng kế hoạch hoạt động dài hạn, trung hạn, hàng năm về hoạt động tuyên truyền của đơn vị và tổ chức thực hiện sau khi được phê duyệt;\n",
            "b) Chủ trì biên soạn tài liệu và trực tiếp hướng dẫn nghiệp vụ hoạt động tuyên truyền cho cơ sở;\n",
            "c) Chủ trì tổ chức và thực hiện biên tập nội dung chương trình tuyên truyền phục vụ nhiệm vụ chính trị, kinh tế, văn hóa, xã hội; các phong trào, các cuộc vận động lớn; các ngày lễ, kỉ niệm lớn của địa phương và đất nước;\n",
            "d) Tổ chức biên soạn, biên tập các thể loại tin tức, tài liệu tuyên truyền; sáng tác, dàn dựng chương trình, tiết mục văn nghệ, tuyên truyền lưu động; thiết kế, dàn dựng triển lãm, cổ động trực quan;\n",
            "đ) Tham gia các hoạt động đào tạo, bồi dưỡng, hướng dẫn chuyên môn, nghiệp vụ hoạt động tuyên truyền.\n",
            "2. Tiêu chuẩn về trình độ đào tạo, bồi dưỡng:\n",
            "a) Có bằng tốt nghiệp đại học trở lên phù hợp với chuyên ngành tuyên truyền viên văn hóa;\n",
            "b) Có chứng chỉ bồi dưỡng tiêu chuẩn chức danh nghề nghiệp tuyên truyền viên văn hóa.\n",
            "3. Tiêu chuẩn về năng lực chuyên môn, nghiệp vụ:\n",
            "a) Nắm vững chủ trương, đường lối của Đảng, chính sách, pháp luật của Nhà nước về hoạt động tuyên truyền;\n",
            "b) Nắm vững phương pháp tổ chức, hình thức hoạt động tuyên truyền;\n",
            "c) Nắm vững lịch sử, văn hóa, xã hội trên địa bàn được phân công quản lý;\n",
            "d) Có chuyên môn về lĩnh vực văn hóa, nghệ thuật; am hiểu kiến thức, kỹ năng nghiệp vụ tuyên truyền;\n",
            "đ) Có năng lực thu thập, phân tích, tổng hợp và đề xuất các giải pháp để nâng cao chất lượng công tác tuyên truyền ;\n",
            "e) Có kỹ năng sử dụng công nghệ thông tin cơ bản, sử dụng được ngoại ngữ hoặc sử dụng được tiếng dân tộc thiểu số đối với viên chức công tác ở vùng dân tộc thiểu số theo yêu cầu vị trí việc làm.\n",
            "4. Yêu cầu đối với viên chức dự thi hoặc xét thăng hạng chức danh nghề nghiệp tuyên truyền viên văn hóa chính:\n",
            "Có thời gian công tác giữ chức danh nghề nghiệp tuyên truyền viên văn hóa hoặc tương đương từ đủ 09 năm trở lên (không kể thời gian tập sự, thử việc). Trường hợp có thời gian tương đương thì phải có ít nhất 01 năm (đủ 12 tháng) đang giữ chức danh nghề nghiệp tuyên truyền viên văn hóa tính đến ngày hết thời hạn nộp hồ sơ đăng ký dự thi hoặc xét thăng hạng.\n",
            "\n",
            "Điều 5. Tuyên truyền viên văn hóa - Mã số: V.10.10.35\n",
            "1. Nhiệm vụ:\n",
            "a) Xây dựng kế hoạch hàng năm về công tác tuyên truyền được giao và tổ chức thực hiện sau khi được phê duyệt;\n",
            "b) Trực tiếp biên soạn, thiết kế, trình bày các thể loại tin tức, tài liệu tuyên truyền; thực hiện tuyên truyền bằng tin tức, lời nói trực tiếp, thuyết minh, thuyết trình theo đề cương biên tập đã được duyệt;\n",
            "c) Tham gia tổ chức, dàn dựng chương trình, tiết mục văn nghệ, tuyên truyền lưu động; trực tiếp biểu diễn các tiết mục văn nghệ phục vụ nhiệm vụ chính trị;\n",
            "d) Tham gia thiết kế, dàn dựng các triển lãm, cổ động trực quan tại chỗ và lưu động; trực tiếp xây dựng đề cương tổng quát, đề cương chi tiết, biên tập, chú thích hình ảnh theo chủ đề, viết bài, thuyết minh nội dung triển lãm tại chỗ và lưu động.\n",
            "2. Tiêu chuẩn về trình độ đào tạo, bồi dưỡng:\n",
            "a) Có bằng tốt nghiệp đại học trở lên phù hợp với chuyên ngành tuyên truyền viên văn hóa;\n",
            "b) Có chứng chỉ bồi dưỡng tiêu chuẩn chức danh nghề nghiệp tuyên truyền viên văn hóa.\n",
            "3. Tiêu chuẩn về năng lực chuyên môn, nghiệp vụ:\n",
            "a) Nắm vững chủ trương, đường lối của Đảng, chính sách, pháp luật của Nhà nước về hoạt động tuyên truyền;\n",
            "b) Nắm được phương pháp tổ chức, hình thức hoạt động tuyên truyền;\n",
            "c) Có hiểu biết về lịch sử, văn hóa, xã hội trên địa bàn được phân công quản lý;\n",
            "d) Có kiến thức về lĩnh vực văn hóa, nghệ thuật; có một trong các kỹ năng: Thuyết minh, thuyết trình, biểu diễn nhạc cụ, biểu diễn văn nghệ, hội họa, thiết kế, thi công cổ động trực quan hoặc các kỹ năng nghiệp vụ khác phù hợp với hình thức tuyên truyền;\n",
            "đ) Sử dụng thành thạo các phương tiện, thiết bị kỹ thuật phục vụ yêu cầu nhiệm vụ;\n",
            "e) Có kỹ năng sử dụng công nghệ thông tin cơ bản, sử dụng được ngoại ngữ hoặc sử dụng được tiếng dân tộc thiểu số đối với viên chức công tác ở vùng dân tộc thiểu số theo yêu cầu vị trí việc làm.\n",
            "4. Yêu cầu đối với viên chức dự thi hoặc xét thăng hạng chức danh nghề nghiệp tuyên truyền viên văn hóa:\n",
            "Có thời gian công tác giữ chức danh nghề nghiệp tuyên truyền viên văn hoá trung cấp hoặc tương đương từ đủ 03 năm trở lên (không kể thời gian tập sự, thử việc). Trường hợp có thời gian tương đương thì phải có ít nhất 01 năm (đủ 12 tháng) đang giữ chức danh tuyên truyền viên văn hoá trung cấp tính đến ngày hết hạn nộp hồ sơ đăng ký dự thi hoặc xét thăng hạng.\n",
            "\n",
            "Điều 6. Tuyên truyền viên văn hóa trung cấp - Mã số: V.10.10.36\n",
            "1. Nhiệm vụ:\n",
            "a) Trực tiếp tham gia thực hiện tổ chức, biểu diễn các hoạt động tuyên truyền lưu động, hoạt động văn hóa, văn nghệ và các hình thức tuyên truyền cổ động khác tại chỗ hoặc lưu động phù hợp với nhiệm vụ được giao;\n",
            "b) Chụp ảnh, quay phim, thực hiện audio làm tư liệu phục vụ nội dung tuyên truyền.\n",
            "2. Tiêu chuẩn về trình độ đào tạo, bồi dưỡng:\n",
            "a) Có bằng tốt nghiệp trung cấp trở lên phù hợp với chuyên ngành tuyên truyền viên văn hóa;\n",
            "b) Có chứng chỉ bồi dưỡng tiêu chuẩn chức danh nghề nghiệp tuyên truyền viên văn hóa.\n",
            "3. Tiêu chuẩn về năng lực chuyên môn, nghiệp vụ:\n",
            "a) Nắm được chủ trương, đường lối của Đảng, chính sách, pháp luật của Nhà nước về hoạt động tuyên truyền;\n",
            "b) Có kiến thức cơ bản về công tác tuyên truyền và các bộ môn văn hóa nghệ thuật liên quan; có một trong các kỹ năng: Thuyết minh, thuyết trình, biểu diễn nhạc cụ, biểu diễn văn nghệ, hội họa, thiết kế, thi công cổ động trực quan hoặc các kỹ năng nghiệp vụ khác phù hợp với hình thức tuyên truyền;\n",
            "c) Sử dụng được các phương tiện, thiết bị kỹ thuật phục vụ yêu cầu nhiệm vụ;\n",
            "d) Có khả năng ứng dụng công nghệ thông tin cơ bản để thực hiện nhiệm vụ được giao.\n",
            "\n",
            "Điều 7. Nguyên tắc xếp lương chức danh nghề nghiệp đối với viên chức chuyên ngành tuyên truyền viên văn hóa\n",
            "1. Việc bổ nhiệm và xếp lương vào chức danh nghề nghiệp viên chức chuyên ngành tuyên truyền viên văn hóa quy định tại Thông tư này phải căn cứ vào vị trí việc làm, chức trách, nhiệm vụ và chuyên môn, nghiệp vụ đang đảm nhận của viên chức.\n",
            "2. Khi bổ nhiệm và xếp lương vào các chức danh nghề nghiệp viên chức chuyên ngành tuyên truyền viên văn hóa tương ứng không được kết hợp nâng bậc lương hoặc thăng hạng chức danh nghề nghiệp viên chức.\n",
            "\n",
            "Điều 8. Cách xếp lương\n",
            "1. Các chức danh nghề nghiệp viên chức chuyên ngành tuyên truyền viên văn hóa quy định tại Thông tư này được áp dụng Bảng 3 (Bảng lương chuyên môn, nghiệp vụ đối với cán bộ, viên chức trong các đơn vị sự nghiệp của Nhà nước) ban hành kèm theo Nghị định số 204/2004/NĐ-CP ngày 14 tháng 12 năm 2004 của Chính phủ về chế độ tiền lương đối với cán bộ, công chức, viên chức và lực lượng vũ trang (sau đây viết tắt là Nghị định số 204/2004/NĐ-CP), cụ thể như sau:\n",
            "a) Chức danh nghề nghiệp tuyên truyền viên văn hóa chính được áp dụng ngạch lương của viên chức loại A2, nhóm 2 (A2.2), từ hệ số lương 4,00 đến hệ số lương 6,38;\n",
            "b) Chức danh nghề nghiệp tuyên truyền viên văn hóa được áp dụng ngạch lương của viên chức loại A1, từ hệ số lương 2,34 đến hệ số lương 4,98;\n",
            "c) Chức danh nghề nghiệp tuyên truyền viên văn hóa trung cấp được áp dụng ngạch lương của viên chức loại B, từ hệ số lương 1,86 đến hệ số lương 4,06.\n",
            "2. Sau khi hết thời gian tập sự theo quy định và được cấp có thẩm quyền quản lý viên chức quyết định bổ nhiệm chức danh nghề nghiệp viên chức tuyên truyền viên văn hóa thì thực hiện xếp bậc lương theo chức danh nghề nghiệp được bổ nhiệm như sau:\n",
            "a) Trường hợp bổ nhiệm chức danh nghề nghiệp tuyên truyền viên văn hóa trung cấp:\n",
            "Viên chức có trình độ đào tạo trung cấp khi tuyển dụng, phù hợp với vị trí việc làm tuyển dụng được xếp bậc 1, hệ số lương 1,86, ngạch viên chức loại B;\n",
            "Viên chức có trình độ đào tạo cao đẳng trở lên khi tuyển dụng, phù hợp với vị trí việc làm tuyển dụng được xếp bậc 2, hệ số lương 2,06, ngạch viên chức loại B.\n",
            "b) Trường hợp bổ nhiệm chức danh nghề nghiệp tuyên truyền viên văn hóa:\n",
            "Viên chức có trình độ đào tạo đại học khi tuyển dụng, phù hợp với vị trí việc làm tuyển dụng được xếp bậc 1, hệ số lương 2,34, ngạch viên chức loại A1;\n",
            "Viên chức có trình độ đào tạo thạc sỹ khi tuyển dụng, phù hợp với vị trí việc làm tuyển dụng được xếp bậc 2, hệ số lương 2,67, ngạch viên chức loại A1;\n",
            "Viên chức có trình độ đào tạo tiến sỹ khi tuyển dụng, phù hợp với vị trí việc làm tuyển dụng được xếp bậc 3, hệ số lương 3,00, ngạch viên chức loại A1.\n",
            "3. Việc chuyển xếp lương đối với viên chức từ chức danh nghề nghiệp hiện giữ sang chức danh nghề nghiệp tuyên truyền viên văn hóa quy định tại Thông tư này thực hiện theo hướng dẫn tại Mục II Thông tư số 02/2007/TT- BNV ngày 25 tháng 5 năm 2007 của Bộ trưởng Bộ Nội vụ hướng dẫn xếp lương khi nâng ngạch, chuyển ngạch, chuyển loại công chức, viên chức (sau đây viết tắt là Thông tư số 02/2007/TT-BNV).\n",
            "\n",
            "Điều 9. Quy định chuyển tiếp\n",
            "1. Viên chức đã được bổ nhiệm vào các ngạch viên chức tuyên truyền viên theo quy định tại Quyết định số 428/TCCP-VC ngày 02 tháng 6 năm 1993 của Bộ trưởng - Trưởng ban Ban Tổ chức - Cán bộ Chính phủ (nay là Bộ trưởng Bộ Nội vụ) ban hành tiêu chuẩn nghiệp vụ ngạch công chức ngành Văn hóa - Thông tin (sau đây viết tắt là Quyết định số 428/TCCP-VC), Quyết định số 78/2004/QĐ-BNV ngày 03 tháng 11 năm 2004 của Bộ trưởng Bộ Nội vụ ban hành danh mục các ngạch công chức và ngạch viên chức (sau đây viết tắt là Quyết định số 78/2004/QĐ-BNV), Thông tư số 80/2005/TT-BNV ngày 10 tháng 8 năm 2005 của Bộ trưởng Bộ Nội vụ hướng dẫn thực hiện chuyển xếp lương đối với cán bộ, công chức, viên chức có trình độ cao đẳng phù hợp với chuyên môn đang làm được bổ nhiệm vào chức danh nghề nghiệp viên chức chuyên ngành tuyên truyền viên văn hóa quy định tại Thông tư này, như sau:\n",
            "a) Bổ nhiệm vào chức danh nghề nghiệp tuyên truyền viên văn hóa (mã số V.10.10.35) đối với viên chức hiện đang giữ ngạch tuyên truyền viên chính (mã số 17.177).\n",
            "b) Bổ nhiệm vào chức danh nghề nghiệp tuyên truyền viên văn hóa trung cấp (mã số V.10.10.36) đối với viên chức hiện đang giữ ngạch tuyên truyền viên cao đẳng (mã số 17a.177) hoặc tuyên truyền viên (mã số 17.178).\n",
            "2. Việc chuyển xếp lương vào chức danh nghề nghiệp viên chức quy định tại khoản 1 Điều này đối với viên chức đã được xếp lương vào các ngạch viên chức tuyên truyền viên theo quy định tại Quyết định số 428/TCCP-VC, Quyết định số 78/2004/QĐ-BNV và Nghị định số 204/2004/NĐ-CP được thực hiện theo hướng dẫn tại Thông tư số 02/2007/TT-BNV như sau:\n",
            "a) Trường hợp viên chức có hệ số bậc lương bằng ở ngạch cũ thì thực hiện xếp ngang bậc lương và % phụ cấp thâm niên vượt khung (nếu có) đang hưởng ở ngạch cũ (kể cả tính thời gian xét nâng bậc lương lần sau hoặc xét hưởng phụ cấp thâm niên vượt khung nếu có ở ngạch cũ) vào chức danh nghề nghiệp mới được bổ nhiệm.\n",
            "b) Trường hợp viên chức có trình độ cao đẳng khi tuyển dụng đã được xếp lương viên chức loại A0 theo quy định tại Nghị định số 204/2004/NĐ -CP nay được bổ nhiệm vào chức danh nghề nghiệp tuyên truyền viên văn hóa trung cấp thì việc xếp bậc lương căn cứ vào thời gian công tác có đóng bảo hiểm xã hội bắt buộc theo thang lương, bảng lương do Nhà nước quy định (trừ thời gian tập sự) như sau:\n",
            "Tính từ bậc 2 bảng lương viên chức loại B, cứ sau thời gian 02 năm (đủ 24 tháng) được xếp lên 01 bậc lương (nếu có thời gian đứt quãng mà chưa hưởng chế độ bảo hiểm xã hội thì được cộng dồn). Trường hợp trong thời gian công tác có năm không hoàn thành nhiệm vụ được giao hoặc bị kỷ luật thì bị kéo dài thêm theo chế độ nâng bậc lương thường xuyên. Trường hợp trong thời gian công tác được nâng bậc lương trước thời hạn do lập thành tích xuất sắc trong thực hiện nhiệm vụ thì thời gian được nâng bậc lương trước thời hạ n được tính để xếp lên bậc lương cao hơn trước thời hạn tương ứng. Sau khi quy đổi thời gian để xếp vào bậc lương của chức danh nghề nghiệp được bổ nhiệm, nếu có số tháng chưa đủ 24 tháng, thì số tháng này được tính vào thời gian để xét nâng bậc lương lần sau hoặc xét hưởng phụ cấp thâm niên vượt khung (nếu có).\n",
            "Sau khi chuyển xếp lương vào chức danh nghề nghiệp tuyên truyền viên văn hóa trung cấp nêu trên, nếu hệ số lương được xếp ở chức danh nghề nghiệp này cộng với phụ cấp thâm niên vượt khung (nếu có) thấp hơn hệ số lương đã hưởng ở ngạch cũ thì được hưởng hệ số chênh lệch bảo lưu cho bằng hệ số lương (kể cả phụ cấp thâm niên vượt khung, nếu có) đang hưởng ở ngạch cũ. Hệ số chênh lệch bảo lưu này được hưởng trong suốt thời gian viên chức xếp lương ở chức danh nghề nghiệp tuyên truyền viên văn hóa trung cấp. Sau đó, nếu viên chức được thăng hạng chức danh nghề nghiệp thì được cộng hệ số chênh lệch bảo lưu này vào hệ số lương (kể cả phụ cấp thâm niên vượt khung, nếu có) đang hưởng để xếp lương vào chức danh được bổ nhiệm khi thăng hạng chức danh nghề nghiệp và thôi hưởng hệ số chênh lệch bảo lưu kể từ ngày hưởng lương ở chức danh nghề nghiệp mới.\n",
            "3. Viên chức đã được bổ nhiệm vào các ngạch tuyên truyền viên theo quy định của pháp luật từ trước ngày Thông tư này có hiệu lực thi hành thì được xác định là đáp ứng quy định về tiêu chuẩn chức danh nghề nghiệp viên chức chuyên ngành tuyên truyền viên văn hóa quy định tại Thông tư này tương ứng với chức danh nghề nghiệp đã được bổ nhiệm.\n",
            "\n",
            "Điều 10. Tổ chức thực hiện\n",
            "1. Thông tư này là căn cứ để thực hiện việc tuyển dụng, sử dụng và quản lý viên chức chuyên ngành tuyên truyền viên văn hóa làm việc trong các đơn vị sự nghiệp công lập.\n",
            "2. Người đứng đầu các đơn vị sự nghiệp công lập trực tiếp quản lý và sử dụng viên chức có trách nhiệm:\n",
            "a) Rà soát vị trí việc làm của đơn vị, lập phương án bổ nhiệm chức danh nghề nghiệp viên chức chuyên ngành tuyên truyền viên văn hóa thuộc thẩm quyền quản lý, trình cấp có thẩm quyền xem xét, quyết định hoặc quyết định theo thẩm quyền phân cấp;\n",
            "b) Quyết định bổ nhiệm chức danh nghề nghiệp chuyên ngành tuyên truyền viên văn hóa trong các đơn vị sự nghiệp công lập theo thẩm quyền hoặc theo phân cấp, ủy quyền sau khi phương án bổ nhiệm chức danh nghề nghiệp được cấp có thẩm quyền phê duyệt.\n",
            "3. Các Bộ, cơ quan ngang Bộ, cơ quan thuộc Chính phủ, Ủy ban nhân dân tỉnh, thành phố trực thuộc trung ương có trách nhiệm:\n",
            "a) Chỉ đạo các đơn vị thuộc phạm vi quản lý thực hiện bổ nhiệm chức danh nghề nghiệp và xếp lương đối với viên chức giữ chức danh nghề nghiệp chuyên ngành tuyên truyền viên văn hóa theo quy định;\n",
            "b) Quyết định hoặc phân cấp, ủy quyền việc bổ nhiệm và xếp lương chức danh nghề nghiệp chuyên ngành tuyên truyền viên văn hóa đối với viên chức thuộc thẩm quyền quản lý; giải quyết theo thẩm quyền những vướng mắc trong quá trình bổ nhiệm chức danh nghề nghiệp và xếp lương.\n",
            "4. Các tổ chức, đơn vị sự nghiệp ngoài công lập có thể áp dụng quy định tại Thông tư này để tuyển dụng, sử dụng và quản lý đội ngũ người làm việc về chuyên ngành tuyên truyền viên văn hóa.\n",
            "\n",
            "Điều 11. Hiệu lực thi hành\n",
            "1. Thông tư này có hiệu lực thi hành kể từ ngày 10 tháng 4 năm 2023.\n",
            "2. Trường hợp các văn bản dẫn chiếu tại Thông tư này được sửa đổi, bổ sung hoặc thay thế thì thực hiện theo các văn bản đã được sửa đổi, bổ sung hoặc thay thế.\n",
            "\n",
            "Điều 12. Trách nhiệm thi hành\n",
            "1. Bộ trưởng, Thủ trưởng cơ quan ngang Bộ, Thủ trưởng cơ quan thuộc Chính phủ, Chủ tịch Ủy ban nhân dân tỉnh, thành phố trực thuộc trung ương và cơ quan, đơn vị, cá nhân có liên quan chịu trách nhiệm thi hành Thông tư này.\n",
            "2. Trong quá trình thực hiện nếu phát sinh vướng mắc, đề nghị cơ quan, đơn vị, cá nhân kịp thời phản ánh về Bộ Văn hóa, Thể thao và Du lịch để nghiên cứu sửa đổi, bổ sung cho phù hợp.\n",
            "\n"
          ]
        }
      ],
      "source": [
        "x2 = re.findall(r\"Điều\\s\\d{1,2}\\.[\\s\\S]+?(?=Điều\\s\\d{1,2}\\.|Chương.*|\\n\\nNơi nhận.*|$)\", txt)\n",
        "for x in x2:\n",
        "  print(x, end=\"\\n\")"
      ]
    },
    {
      "cell_type": "markdown",
      "metadata": {
        "id": "CgDXdnjx3wbz"
      },
      "source": [
        "### 3.Tìm tất cả các mã luật có trong văn bản theo định dạng tương tự như: <code>“204/2004/NĐ-CP”</code>"
      ]
    },
    {
      "cell_type": "code",
      "execution_count": null,
      "metadata": {
        "id": "7C-lEWQo31MI"
      },
      "outputs": [],
      "source": [
        "x3 = re.findall(\"\\d{1,3}/[1-2]\\d{3}/[A-Z].[-|\\s]*[A-Z]*\", txt)"
      ]
    },
    {
      "cell_type": "code",
      "execution_count": null,
      "metadata": {
        "colab": {
          "base_uri": "https://localhost:8080/"
        },
        "id": "YKCZ0z2T6apd",
        "outputId": "075351d3-c090-4f7d-bcbe-022e4624d666"
      },
      "outputs": [
        {
          "name": "stdout",
          "output_type": "stream",
          "text": [
            "02/2023/TT-BVHTTDL\n",
            "204/2004/NĐ-CP\n",
            "17/2013/NĐ-CP\n",
            "204/2004/NĐ-CP\n",
            "01/2023/NĐ-CP\n",
            "115/2020/NĐ-CP\n",
            "204/2004/NĐ-CP\n",
            "204/2004/NĐ-CP\n",
            "02/2007/TT- BNV\n",
            "02/2007/TT-BNV\n",
            "78/2004/QĐ-BNV\n",
            "78/2004/QĐ-BNV\n",
            "80/2005/TT-BNV\n",
            "78/2004/QĐ-BNV\n",
            "204/2004/NĐ-CP\n",
            "02/2007/TT-BNV\n",
            "204/2004/NĐ -CP\n"
          ]
        }
      ],
      "source": [
        "for x in x3:\n",
        "  print(x)"
      ]
    }
  ],
  "metadata": {
    "colab": {
      "provenance": []
    },
    "kernelspec": {
      "display_name": "Python 3",
      "name": "python3"
    },
    "language_info": {
      "codemirror_mode": {
        "name": "ipython",
        "version": 3
      },
      "file_extension": ".py",
      "mimetype": "text/x-python",
      "name": "python",
      "nbconvert_exporter": "python",
      "pygments_lexer": "ipython3",
      "version": "3.10.12"
    }
  },
  "nbformat": 4,
  "nbformat_minor": 0
}
